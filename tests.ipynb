{
 "cells": [
  {
   "cell_type": "code",
   "execution_count": 1,
   "id": "887ed803-c6dd-4da6-9845-3afb0c5f8392",
   "metadata": {
    "lines_to_next_cell": 0
   },
   "outputs": [],
   "source": [
    "import sys, os, json\n",
    "sys.path.append('../')\n",
    "from scripts.uniprot import UniprotInterface\n",
    "import pandas as pd"
   ]
  },
  {
   "cell_type": "code",
   "execution_count": 2,
   "id": "7e4834c7",
   "metadata": {
    "lines_to_next_cell": 0
   },
   "outputs": [],
   "source": [
    "def replace_char_at_index(s, i, new_char):\n",
    "    if i < 0 or i >= len(s):\n",
    "        raise IndexError(\"Index out of range.\")\n",
    "    return s[:i] + new_char + s[i+1:]"
   ]
  },
  {
   "cell_type": "code",
   "execution_count": 11,
   "id": "b318b89f",
   "metadata": {
    "lines_to_next_cell": 0
   },
   "outputs": [],
   "source": [
    "ids = [\"Q75UA4\"]\n",
    "from_db = 'UniProtKB_AC-ID'\n",
    "to_db = 'UniProtKB'\n",
    "disease = \"CRC\""
   ]
  },
  {
   "cell_type": "code",
   "execution_count": 12,
   "id": "0a647744",
   "metadata": {
    "lines_to_next_cell": 0
   },
   "outputs": [],
   "source": [
    "downloader = UniprotInterface()\n",
    "\n",
    "job_id = downloader.submit_id_mapping(from_db=from_db, to_db=to_db, ids=ids)"
   ]
  },
  {
   "cell_type": "code",
   "execution_count": 13,
   "id": "eef323a8",
   "metadata": {
    "lines_to_next_cell": 0
   },
   "outputs": [
    {
     "name": "stdout",
     "output_type": "stream",
     "text": [
      "Fetched: 1 / 1\n"
     ]
    }
   ],
   "source": [
    "if downloader.check_id_mapping_results_ready(job_id):\n",
    "    link = downloader.get_id_mapping_results_link(job_id)\n",
    "    results = downloader.get_id_mapping_results_search(link)"
   ]
  },
  {
   "cell_type": "code",
   "execution_count": 10,
   "id": "b9396a36",
   "metadata": {
    "lines_to_next_cell": 0
   },
   "outputs": [],
   "source": [
    "with open(\"results.json\", \"w\") as f:\n",
    "    json.dump(results, f)"
   ]
  },
  {
   "cell_type": "code",
   "execution_count": 14,
   "id": "243e35c2",
   "metadata": {
    "lines_to_next_cell": 0
   },
   "outputs": [
    {
     "data": {
      "text/plain": [
       "'MKFGKFVLLAASTALAVVGLGGPAAADSTPQAQPSIIGGSNATSGPWAARLFVNGRQNCTATIIAPQYILTAKHCVSSSGTYTFRIGSLDQTSGGTMATGSTITRYPGSADLAIVRLTTSVNATYSPLGSVGDVSVGQNVSVYGWGATSQCGSEINCQSRYLKVATVRVNSISCSDYTGGVAVCANRVNGITAGGDSGGPMFASGRQVGVASTSDRVNNTAYTNITRYRSWISQVAGV'"
      ]
     },
     "execution_count": 14,
     "metadata": {},
     "output_type": "execute_result"
    }
   ],
   "source": [
    "results['results'][0]['to']['sequence']['value']"
   ]
  },
  {
   "cell_type": "code",
   "execution_count": 15,
   "id": "0d06bc8c",
   "metadata": {
    "lines_to_next_cell": 0
   },
   "outputs": [
    {
     "name": "stdout",
     "output_type": "stream",
     "text": [
      "Q75UA4\n"
     ]
    }
   ],
   "source": [
    "for result in results['results']:\n",
    "    print(result['from'])"
   ]
  },
  {
   "cell_type": "code",
   "execution_count": null,
   "id": "f536ba57",
   "metadata": {
    "lines_to_next_cell": 0
   },
   "outputs": [],
   "source": [
    "export_data = []\n",
    "sequence = results['results'][0]['to']['sequence']['value']\n",
    "for feature in results['results'][0]['to']['features']:\n",
    "    row = []\n",
    "    if feature['type'] == 'Natural variant' and disease in feature['description']:     \n",
    "        row.append(feature['featureId'])\n",
    "        location_start = feature['location']['start']['value']\n",
    "        location_end = feature['location']['end']['value']\n",
    "        if location_start == location_end:\n",
    "            row.append(location_start)\n",
    "            original_sequence = feature['alternativeSequence']['originalSequence']\n",
    "            new_sequence = feature['alternativeSequence']['alternativeSequences'][0]\n",
    "            row.append(f\"{original_sequence}->{new_sequence}\")\n",
    "            row.append(replace_char_at_index(sequence, int(location_start)-1, new_sequence))\n",
    "        else:\n",
    "            row.append(f\"{location_start}-{location_end}\")\n",
    "            row.append(\"missing\")\n",
    "            row.append(sequence[:int(location_start)-1] + sequence[int(location_end)-1:])\n",
    "        export_data.append(row)\n",
    "export_data"
   ]
  },
  {
   "cell_type": "code",
   "execution_count": null,
   "id": "c43c304e",
   "metadata": {
    "lines_to_next_cell": 0
   },
   "outputs": [],
   "source": [
    "df = pd.DataFrame(export_data, columns=[\"variant id\", \"position\", \"change\", \"sequence\"])\n",
    "df"
   ]
  },
  {
   "cell_type": "code",
   "execution_count": null,
   "id": "0b712ab6",
   "metadata": {
    "lines_to_next_cell": 0
   },
   "outputs": [],
   "source": [
    "df.to_csv(\"results.csv\", index=False)"
   ]
  },
  {
   "cell_type": "code",
   "execution_count": 46,
   "id": "41389a75",
   "metadata": {},
   "outputs": [
    {
     "name": "stdout",
     "output_type": "stream",
     "text": [
      "[{'database': 'PubMed', 'id': '11133465'}, {'database': 'DOI', 'id': '10.1128/AEM.67.1.345-353.2001'}]\n",
      "[{'database': 'PubMed', 'id': '16237016'}, {'database': 'DOI', 'id': '10.1128/JB.187.21.7333-7340.2005'}]\n"
     ]
    }
   ],
   "source": [
    "result = results['results'][0]\n",
    "for reference in result['to']['references']:\n",
    "    print(reference['citation']['citationCrossReferences'])"
   ]
  },
  {
   "cell_type": "code",
   "execution_count": 49,
   "id": "3e9e1647-5992-4b1e-a28f-c1d73fd8af0f",
   "metadata": {},
   "outputs": [],
   "source": [
    "references_list = []\n",
    "result = results['results'][0]                 \n",
    "\n",
    "try:\n",
    "    for r in result['to']['references']:\n",
    "        tmp = {}\n",
    "        tmp[\"citacionCrossReferences\"] = r['citation']['citationCrossReferences']\n",
    "        tmp.update({\"title\": r['citation']['title']})\n",
    "        references_list.append(tmp)\n",
    "except KeyError:\n",
    "    pass"
   ]
  },
  {
   "cell_type": "code",
   "execution_count": 50,
   "id": "28767add-3dbd-45fd-9c7e-8a519ff59da0",
   "metadata": {},
   "outputs": [
    {
     "data": {
      "text/plain": [
       "[{'citacionCrossReferences': [{'database': 'PubMed', 'id': '11133465'},\n",
       "   {'database': 'DOI', 'id': '10.1128/AEM.67.1.345-353.2001'}],\n",
       "  'title': 'Purification and characterization of an extracellular poly(L-lactic acid) depolymerase from a soil isolate, Amycolatopsis sp. strain K104-1.'},\n",
       " {'citacionCrossReferences': [{'database': 'PubMed', 'id': '16237016'},\n",
       "   {'database': 'DOI', 'id': '10.1128/JB.187.21.7333-7340.2005'}],\n",
       "  'title': 'Gene cloning and molecular characterization of an extracellular poly(L-lactic acid) depolymerase from Amycolatopsis sp. strain K104-1.'}]"
      ]
     },
     "execution_count": 50,
     "metadata": {},
     "output_type": "execute_result"
    }
   ],
   "source": [
    "references_list"
   ]
  }
 ],
 "metadata": {
  "kernelspec": {
   "display_name": "Python 3 (ipykernel)",
   "language": "python",
   "name": "python3"
  },
  "language_info": {
   "codemirror_mode": {
    "name": "ipython",
    "version": 3
   },
   "file_extension": ".py",
   "mimetype": "text/x-python",
   "name": "python",
   "nbconvert_exporter": "python",
   "pygments_lexer": "ipython3",
   "version": "3.12.4"
  }
 },
 "nbformat": 4,
 "nbformat_minor": 5
}
