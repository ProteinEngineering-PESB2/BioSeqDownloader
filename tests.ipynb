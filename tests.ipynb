{
 "cells": [
  {
   "cell_type": "code",
   "execution_count": 1,
   "id": "887ed803-c6dd-4da6-9845-3afb0c5f8392",
   "metadata": {
    "lines_to_next_cell": 0
   },
   "outputs": [],
   "source": [
    "import sys, os, json\n",
    "sys.path.append('../')\n",
    "from scripts.uniprot import UniprotInterface\n",
    "import pandas as pd"
   ]
  },
  {
   "cell_type": "code",
   "execution_count": null,
   "id": "7e4834c7",
   "metadata": {
    "lines_to_next_cell": 0
   },
   "outputs": [],
   "source": [
    "def replace_char_at_index(s, i, new_char):\n",
    "    if i < 0 or i >= len(s):\n",
    "        raise IndexError(\"Index out of range.\")\n",
    "    return s[:i] + new_char + s[i+1:]"
   ]
  },
  {
   "cell_type": "code",
   "execution_count": null,
   "id": "b318b89f",
   "metadata": {
    "lines_to_next_cell": 0
   },
   "outputs": [],
   "source": [
    "ids = [\"P40692\"]\n",
    "from_db = 'UniProtKB_AC-ID'\n",
    "to_db = 'UniProtKB'\n",
    "disease = \"CRC\""
   ]
  },
  {
   "cell_type": "code",
   "execution_count": null,
   "id": "0a647744",
   "metadata": {
    "lines_to_next_cell": 0
   },
   "outputs": [],
   "source": [
    "downloader = UniprotInterface()\n",
    "\n",
    "job_id = downloader.submit_id_mapping(from_db=from_db, to_db=to_db, ids=ids)"
   ]
  },
  {
   "cell_type": "code",
   "execution_count": null,
   "id": "eef323a8",
   "metadata": {
    "lines_to_next_cell": 0
   },
   "outputs": [],
   "source": [
    "if downloader.check_id_mapping_results_ready(job_id):\n",
    "    link = downloader.get_id_mapping_results_link(job_id)\n",
    "    results = downloader.get_id_mapping_results_search(link)"
   ]
  },
  {
   "cell_type": "code",
   "execution_count": null,
   "id": "b9396a36",
   "metadata": {
    "lines_to_next_cell": 0
   },
   "outputs": [],
   "source": [
    "with open(\"results.json\", \"w\") as f:\n",
    "    json.dump(results, f)"
   ]
  },
  {
   "cell_type": "code",
   "execution_count": null,
   "id": "243e35c2",
   "metadata": {
    "lines_to_next_cell": 0
   },
   "outputs": [],
   "source": [
    "results['results'][0]['to']['sequence']['value']"
   ]
  },
  {
   "cell_type": "code",
   "execution_count": null,
   "id": "0d06bc8c",
   "metadata": {
    "lines_to_next_cell": 0
   },
   "outputs": [],
   "source": [
    "for result in results['results']:\n",
    "    print(result['from'])"
   ]
  },
  {
   "cell_type": "code",
   "execution_count": null,
   "id": "f536ba57",
   "metadata": {
    "lines_to_next_cell": 0
   },
   "outputs": [],
   "source": [
    "export_data = []\n",
    "sequence = results['results'][0]['to']['sequence']['value']\n",
    "for feature in results['results'][0]['to']['features']:\n",
    "    row = []\n",
    "    if feature['type'] == 'Natural variant' and disease in feature['description']:     \n",
    "        row.append(feature['featureId'])\n",
    "        location_start = feature['location']['start']['value']\n",
    "        location_end = feature['location']['end']['value']\n",
    "        if location_start == location_end:\n",
    "            row.append(location_start)\n",
    "            original_sequence = feature['alternativeSequence']['originalSequence']\n",
    "            new_sequence = feature['alternativeSequence']['alternativeSequences'][0]\n",
    "            row.append(f\"{original_sequence}->{new_sequence}\")\n",
    "            row.append(replace_char_at_index(sequence, int(location_start)-1, new_sequence))\n",
    "        else:\n",
    "            row.append(f\"{location_start}-{location_end}\")\n",
    "            row.append(\"missing\")\n",
    "            row.append(sequence[:int(location_start)-1] + sequence[int(location_end)-1:])\n",
    "        export_data.append(row)\n",
    "export_data"
   ]
  },
  {
   "cell_type": "code",
   "execution_count": null,
   "id": "c43c304e",
   "metadata": {
    "lines_to_next_cell": 0
   },
   "outputs": [],
   "source": [
    "df = pd.DataFrame(export_data, columns=[\"variant id\", \"position\", \"change\", \"sequence\"])\n",
    "df"
   ]
  },
  {
   "cell_type": "code",
   "execution_count": null,
   "id": "0b712ab6",
   "metadata": {
    "lines_to_next_cell": 0
   },
   "outputs": [],
   "source": [
    "df.to_csv(\"results.csv\", index=False)"
   ]
  },
  {
   "cell_type": "code",
   "execution_count": null,
   "id": "41389a75",
   "metadata": {},
   "outputs": [],
   "source": []
  }
 ],
 "metadata": {
  "kernelspec": {
   "display_name": "Python 3 (ipykernel)",
   "language": "python",
   "name": "python3"
  },
  "language_info": {
   "codemirror_mode": {
    "name": "ipython",
    "version": 3
   },
   "file_extension": ".py",
   "mimetype": "text/x-python",
   "name": "python",
   "nbconvert_exporter": "python",
   "pygments_lexer": "ipython3",
   "version": "3.12.4"
  }
 },
 "nbformat": 4,
 "nbformat_minor": 5
}
